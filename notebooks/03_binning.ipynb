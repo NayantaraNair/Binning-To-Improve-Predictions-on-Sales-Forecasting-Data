{
 "cells": [
  {
   "cell_type": "markdown",
   "id": "36140a5c",
   "metadata": {},
   "source": [
    "# 03_binning.ipynb\n",
    "\n",
    "This notebook applies different binning techniques to the `TotalPrice` feature to improve model performance."
   ]
  },
  {
   "cell_type": "code",
   "execution_count": null,
   "id": "dd588509",
   "metadata": {},
   "outputs": [],
   "source": [
    "import pandas as pd\n",
    "\n",
    "# Load cleaned data\n",
    "data = pd.read_csv('../data/processed/cleaned_data.csv')\n",
    "data['TotalPrice'] = data['Quantity'] * data['UnitPrice']\n",
    "data.head()"
   ]
  },
  {
   "cell_type": "markdown",
   "id": "cec008f8",
   "metadata": {},
   "source": [
    "## Equal-Width Binning"
   ]
  },
  {
   "cell_type": "code",
   "execution_count": null,
   "id": "9e85ff32",
   "metadata": {},
   "outputs": [],
   "source": [
    "# Apply equal-width binning\n",
    "data['TotalPriceBin_EqualWidth'] = pd.cut(data['TotalPrice'], bins=5, labels=False)\n",
    "data['TotalPriceBin_EqualWidth'].value_counts().sort_index()"
   ]
  },
  {
   "cell_type": "markdown",
   "id": "a144f7c6",
   "metadata": {},
   "source": [
    "## Quantile-Based Binning"
   ]
  },
  {
   "cell_type": "code",
   "execution_count": null,
   "id": "fbc26c0a",
   "metadata": {},
   "outputs": [],
   "source": [
    "# Apply quantile-based binning\n",
    "data['TotalPriceBin_Quantile'] = pd.qcut(data['TotalPrice'], q=5, labels=False, duplicates='drop')\n",
    "data['TotalPriceBin_Quantile'].value_counts().sort_index()"
   ]
  },
  {
   "cell_type": "markdown",
   "id": "b3002ad0",
   "metadata": {},
   "source": [
    "## KMeans Binning"
   ]
  },
  {
   "cell_type": "code",
   "execution_count": null,
   "id": "b1fff872",
   "metadata": {},
   "outputs": [],
   "source": [
    "from sklearn.cluster import KMeans\n",
    "\n",
    "kmeans = KMeans(n_clusters=5, random_state=42)\n",
    "data['TotalPriceBin_KMeans'] = kmeans.fit_predict(data[['TotalPrice']])\n",
    "data['TotalPriceBin_KMeans'].value_counts().sort_index()"
   ]
  },
  {
   "cell_type": "markdown",
   "id": "953d7bb6",
   "metadata": {},
   "source": [
    "## Visualization of Binning Methods"
   ]
  },
  {
   "cell_type": "code",
   "execution_count": null,
   "id": "524c28d8",
   "metadata": {},
   "outputs": [],
   "source": [
    "import matplotlib.pyplot as plt\n",
    "import seaborn as sns\n",
    "\n",
    "plt.figure(figsize=(18, 5))\n",
    "\n",
    "plt.subplot(1, 3, 1)\n",
    "sns.histplot(data['TotalPrice'], bins=30, kde=False, hue=data['TotalPriceBin_EqualWidth'], palette='tab10', legend=False)\n",
    "plt.title('Equal-Width Binning')\n",
    "\n",
    "plt.subplot(1, 3, 2)\n",
    "sns.histplot(data['TotalPrice'], bins=30, kde=False, hue=data['TotalPriceBin_Quantile'], palette='tab10', legend=False)\n",
    "plt.title('Quantile Binning')\n",
    "\n",
    "plt.subplot(1, 3, 3)\n",
    "sns.histplot(data['TotalPrice'], bins=30, kde=False, hue=data['TotalPriceBin_KMeans'], palette='tab10', legend=False)\n",
    "plt.title('KMeans Binning')\n",
    "\n",
    "plt.tight_layout()\n",
    "plt.show()"
   ]
  },
  {
   "cell_type": "markdown",
   "id": "44da432e",
   "metadata": {},
   "source": [
    "## Save Binned Data"
   ]
  },
  {
   "cell_type": "code",
   "execution_count": null,
   "id": "0b029608",
   "metadata": {},
   "outputs": [],
   "source": [
    "# Save the data with binned features\n",
    "data.to_csv('../data/processed/binned_features.csv', index=False)\n",
    "print(\"Binned features saved to ../data/processed/binned_features.csv\")"
   ]
  }
 ],
 "metadata": {},
 "nbformat": 4,
 "nbformat_minor": 5
}